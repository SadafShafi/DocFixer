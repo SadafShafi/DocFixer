{
  "cells": [
    {
      "cell_type": "markdown",
      "source": [
        "**Once your model is trained, It can be imported here and tested on all the images**"
      ],
      "metadata": {
        "id": "502ttMKQxLol"
      }
    },
    {
      "cell_type": "markdown",
      "source": [
        "**Uncomment to get the images from imagesdatafortesting folder**"
      ],
      "metadata": {
        "id": "tdSt2eS_XCsa"
      }
    },
    {
      "cell_type": "code",
      "source": [
        "# !gdown --id \"imagesdatafortesting Google drive id\"\n",
        "# !unzip imagesdatafortesting.zip"
      ],
      "metadata": {
        "id": "2cAD7Uk27f40"
      },
      "execution_count": null,
      "outputs": []
    },
    {
      "cell_type": "markdown",
      "source": [
        "**Download trained model and its architecture**"
      ],
      "metadata": {
        "id": "JQeoQ-TVXX4Y"
      }
    },
    {
      "cell_type": "code",
      "source": [
        "# !gdown --id \"traained model google drive model\"\n",
        "# !unzip /content/Model_100L_1.0_acc.zip"
      ],
      "metadata": {
        "id": "WDqoGsyKU-1X"
      },
      "execution_count": null,
      "outputs": []
    },
    {
      "cell_type": "code",
      "source": [
        "model_path = '/content/Model_100L_1.0_acc/best_weights_with_validation_big_dataset100_acc_100.h5' #@param\n",
        "model_architecture = '/content/Model_100L_1.0_acc/model_100_lay_100_acc.json' #@param"
      ],
      "metadata": {
        "id": "QtHonl9EVyXi"
      },
      "execution_count": null,
      "outputs": []
    },
    {
      "cell_type": "code",
      "source": [
        "# @title Libraries\n",
        "from os import walk\n",
        "from PIL import Image\n",
        "import tensorflow as tf\n",
        "import cv2\n",
        "import numpy as np\n",
        "from google.colab.patches import cv2_imshow\n",
        "from skimage import io\n",
        "from matplotlib import pyplot as plt\n",
        "from google.colab.patches import cv2_imshow"
      ],
      "metadata": {
        "id": "N2sQDwAjhYz_"
      },
      "execution_count": null,
      "outputs": []
    },
    {
      "cell_type": "code",
      "source": [
        "#@title Compile the AI Model\n",
        "\n",
        "\n",
        "model = tf.keras.models.model_from_json(open(model_architecture).read())\n",
        "\n",
        "model.load_weights(model_path)\n",
        "\n",
        "model.compile(optimizer='adam', loss='binary_crossentropy', metrics=['accuracy'])"
      ],
      "metadata": {
        "id": "JY_HffLoIyy4"
      },
      "execution_count": null,
      "outputs": []
    },
    {
      "cell_type": "code",
      "execution_count": null,
      "metadata": {
        "id": "4zswazpv--_E"
      },
      "outputs": [],
      "source": [
        "#@title Code for De Skew\n",
        "def orientation(image):\n",
        "    image = Image.fromarray(image)\n",
        "    image = image.resize((224,224))\n",
        "    image = np.expand_dims(image, axis=0)\n",
        "    pred = model.predict(image/255.0,verbose = False)\n",
        "    return pred\n",
        "def addPadding(img):\n",
        "  # print(\"Padding\")\n",
        "  if img.shape[2] > 3:\n",
        "      img = img[...,:3]\n",
        "  # print(img.shape)\n",
        "  old_image_height, old_image_width, channels = img.shape\n",
        "  # print(img.shape)\n",
        "  # create new image of desired size and color (blue) for padding\n",
        "  toAdd = abs(old_image_height - old_image_width)\n",
        "\n",
        "  if old_image_width >= old_image_height:\n",
        "    new_image_width = old_image_width  \n",
        "    new_image_height = old_image_height + toAdd\n",
        "  else:\n",
        "    new_image_width = old_image_width  + toAdd\n",
        "    new_image_height = old_image_height \n",
        "\n",
        "  if new_image_height < 1000 :new_image_height = 1000\n",
        "  if new_image_width < 1200:new_image_width = 1200\n",
        "\n",
        "  # new_image_width = old_image_width  + toAdd\n",
        "  # new_image_height = old_image_height\n",
        "\n",
        "  # print(\"new Dimentions\")\n",
        "  # print(new_image_width,new_image_height,channels)\n",
        "  #  Color the padded region to white\n",
        "  color = (255) * channels\n",
        "  result = np.full((new_image_height,new_image_width, channels), color, dtype=np.uint8)\n",
        "\n",
        "  # compute center offset\n",
        "  x_center = (new_image_width - old_image_width) // 2\n",
        "  y_center = (new_image_height - old_image_height) // 2\n",
        "\n",
        "  # copy img image into center of result image\n",
        "  result[y_center:y_center+old_image_height, \n",
        "        x_center:x_center+old_image_width] = img\n",
        "  # print(result.shape)\n",
        "\n",
        "  return result\n",
        "\n",
        "\n",
        "def deskew(im, max_skew=10):\n",
        "\n",
        "    # if im.shape[2] > 3:\n",
        "    #   im = im[...,:3]\n",
        "    im = addPadding(im)\n",
        "    \n",
        "    # cv2_imshow(im)\n",
        "    # '''\n",
        "    height, width , _= im.shape\n",
        "    # Create a grayscale image and denoise it\n",
        "    im_gs = cv2.cvtColor(im, cv2.COLOR_BGR2GRAY)\n",
        "    \n",
        "    im_gs = cv2.fastNlMeansDenoising(im_gs, h=3)\n",
        "    # print(im_gs.shape)\n",
        "    \n",
        "    \n",
        "    # Create an inverted B&W copy using Otsu (automatic) thresholding\n",
        "    im_bw = cv2.threshold(im_gs, 0, 255, cv2.THRESH_BINARY_INV | cv2.THRESH_OTSU)[1]\n",
        "    # cv2_imshow(im_bw)\n",
        "    # Detect lines in this image. Parameters here mostly arrived at by trial and error.\n",
        "    lines = cv2.HoughLinesP(\n",
        "        im_bw, 1, np.pi / 180, 200, minLineLength=width / 12, maxLineGap=width / 150\n",
        "    )\n",
        "    # print(lines)\n",
        "    # Collect the angles of these lines (in radians)\n",
        "    angles = [] \n",
        "    for line in lines:\n",
        "        x1, y1, x2, y2 = line[0]\n",
        "        angles.append(np.arctan2(y2 - y1, x2 - x1))\n",
        "      #  print(\"X1,y1\", x1,y1,x2,y2)\n",
        "    # If the majority of our lines are vertical, this is probably a landscape image\n",
        "    landscape = np.sum([abs(angle) > np.pi / 4 for angle in angles]) > len(angles) / 2\n",
        "    # Filter the angles to remove outliers based on max_skew\n",
        "    if landscape:\n",
        "        angles = [\n",
        "            angle for angle in angles if np.deg2rad(90 - max_skew) < abs(angle) < np.deg2rad(90 + max_skew)\n",
        "        ]\n",
        "    else:\n",
        "        angles = [angle for angle in angles if abs(angle) < np.deg2rad(max_skew)]\n",
        "    if len(angles) < 5:\n",
        "        # Insufficient data to deskew\n",
        "        return im\n",
        "    # Average the angles to a degree offset\n",
        "    angle_deg = np.rad2deg(np.median(angles))\n",
        "    # If this is landscape image, rotate the entire canvas appropriately\n",
        "    if landscape:\n",
        "        # print(angle_deg)\n",
        "        if angle_deg < 0:\n",
        "            im = cv2.rotate(im, cv2.ROTATE_90_CLOCKWISE)\n",
        "            angle_deg += 90\n",
        "        elif angle_deg > 0 and angle_deg<60:\n",
        "            im = cv2.rotate(im, cv2.ROTATE_90_COUNTERCLOCKWISE)\n",
        "            angle_deg -= 90\n",
        "        elif angle_deg>60 and angle_deg<88.5:\n",
        "          im = cv2.rotate(im, cv2.ROTATE_90_CLOCKWISE)\n",
        "          angle_deg -= 90\n",
        "        elif angle_deg>88.5 and angle_deg<100:\n",
        "          im = cv2.rotate(im, cv2.ROTATE_90_CLOCKWISE)\n",
        "          angle_deg += 90  \n",
        "    # Rotate the image by the residual offset\n",
        "    M = cv2.getRotationMatrix2D((width / 2, height / 2), angle_deg, 1)\n",
        "    im = cv2.warpAffine(im, M, (width, height), borderMode=cv2.BORDER_REPLICATE)\n",
        "\n",
        "    isUpsideDown = orientation(im)[0][0]\n",
        "\n",
        "\n",
        "    if(isUpsideDown>=0.5):\n",
        "      print(\"Don't rotate the image\")\n",
        "    else:\n",
        "      print(\"Rotate the image\")\n",
        "      im = cv2.rotate(im,cv2.ROTATE_180)\n",
        "\n",
        "    print(isUpsideDown)\n",
        "    return im\n"
      ]
    },
    {
      "cell_type": "markdown",
      "source": [
        "**Specify the path to your image directory**"
      ],
      "metadata": {
        "id": "C5pfIOvsX-to"
      }
    },
    {
      "cell_type": "code",
      "source": [
        "path_to_image_directory = '/content/imagedirectory/' #@param\n",
        "pt = path_to_image_directory"
      ],
      "metadata": {
        "id": "yir2viYcLjeu"
      },
      "execution_count": null,
      "outputs": []
    },
    {
      "cell_type": "code",
      "source": [
        "\n",
        "filenames = next(walk(pt), (None, None, []))[2]\n",
        "\n",
        "x = 0\n",
        "for each in filenames:\n",
        "  try: \n",
        "    # image = io.imread(pt+each)\n",
        "    image = Image.open(pt+each)\n",
        "    img = deskew(np.asarray(image))\n",
        "    # cv2_imshow(img)\n",
        "    f, axarr = plt.subplots(1,2,figsize=(10, 10))\n",
        "    axarr[0].imshow(image)\n",
        "    axarr[1].imshow(img)\n",
        "    plt.show()\n",
        "    # print(pt+each)\n",
        "  except Exception as e:  \n",
        "    print(each + \" Not working #########################\")   \n",
        "    print(e)\n",
        "  # x+=1\n",
        "  # if x>=10:break"
      ],
      "metadata": {
        "id": "y9CxbnxvOiB_"
      },
      "execution_count": null,
      "outputs": []
    },
    {
      "cell_type": "code",
      "source": [],
      "metadata": {
        "id": "48JIMAiXZJ7x"
      },
      "execution_count": null,
      "outputs": []
    },
    {
      "cell_type": "code",
      "source": [],
      "metadata": {
        "id": "mvL90hza7vgj"
      },
      "execution_count": null,
      "outputs": []
    },
    {
      "cell_type": "code",
      "source": [],
      "metadata": {
        "id": "3O8vPeAqgbSy"
      },
      "execution_count": null,
      "outputs": []
    }
  ],
  "metadata": {
    "colab": {
      "provenance": []
    },
    "gpuClass": "standard",
    "kernelspec": {
      "display_name": "Python 3",
      "name": "python3"
    },
    "language_info": {
      "name": "python"
    },
    "accelerator": "GPU"
  },
  "nbformat": 4,
  "nbformat_minor": 0
}